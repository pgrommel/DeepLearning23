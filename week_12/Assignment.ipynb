{
  "nbformat": 4,
  "nbformat_minor": 0,
  "metadata": {
    "colab": {
      "name": "3. Graph Classification.ipynb",
      "provenance": [],
      "collapsed_sections": []
    },
    "kernelspec": {
      "name": "python3",
      "display_name": "Python 3"
    }
  },
  "cells": [
    {
      "cell_type": "markdown",
      "source": [
        "# Assignment: IMDB Classification\n",
        "\n",
        "\n",
        "*IMDB-BINARY* is a movie collaboration dataset that consists of the ego-networks of 1,000 actors/actresses who played roles in movies in IMDB (https://www.imdb.com/ ). In each graph, nodes represent actors/actress, and there is an edge between them if they appear in the same movie. These graphs are derived from the **Action** and **Romance** genres. The task\n",
        "is identify which genre an ego-network graph belongs to.\n",
        "\n",
        " "
      ],
      "metadata": {
        "id": "XIYtZ-IfzS5e"
      }
    },
    {
      "cell_type": "markdown",
      "source": [
        "### Get Data"
      ],
      "metadata": {
        "id": "S5FQTsq2z1Kb"
      }
    },
    {
      "cell_type": "code",
      "metadata": {
        "id": "zn5U4EE6K86v",
        "colab": {
          "base_uri": "https://localhost:8080/"
        },
        "outputId": "3dc509be-ec8f-44d0-8e65-c69802b9986d"
      },
      "source": [
        "# Install required packages.\n",
        "import os\n",
        "import torch\n",
        "os.environ['TORCH'] = torch.__version__\n",
        "print(torch.__version__)\n",
        "\n",
        "!pip install -q torch-scatter -f https://data.pyg.org/whl/torch-${TORCH}.html\n",
        "!pip install -q torch-sparse -f https://data.pyg.org/whl/torch-${TORCH}.html\n",
        "!pip install -q git+https://github.com/pyg-team/pytorch_geometric.git"
      ],
      "execution_count": 1,
      "outputs": [
        {
          "output_type": "stream",
          "name": "stdout",
          "text": [
            "1.11.0+cu113\n",
            "\u001b[K     |████████████████████████████████| 7.9 MB 2.9 MB/s \n",
            "\u001b[K     |████████████████████████████████| 3.5 MB 2.8 MB/s \n",
            "\u001b[?25h  Building wheel for torch-geometric (setup.py) ... \u001b[?25l\u001b[?25hdone\n"
          ]
        }
      ]
    },
    {
      "cell_type": "markdown",
      "source": [
        "### Get Data Properties"
      ],
      "metadata": {
        "id": "JdadbtOQzyED"
      }
    },
    {
      "cell_type": "code",
      "metadata": {
        "id": "mHSP6-RBOqCE",
        "colab": {
          "base_uri": "https://localhost:8080/"
        },
        "outputId": "fe5ce859-843a-49ea-c119-c11764143f7e"
      },
      "source": [
        "import torch\n",
        "from torch_geometric.datasets import TUDataset\n",
        "\n",
        "dataset = TUDataset(root='data/TUDataset', name='IMDB-BINARhttps://www.kaggle.com/datasets/lakshmi25npathi/imdb-dataset-of-50k-movie-reviewsY')\n",
        "\n",
        "print()\n",
        "print(f'Dataset: {dataset}:')\n",
        "print('====================')\n",
        "print(f'Number of graphs: {len(dataset)}')\n",
        "print(f'Number of features: {dataset.num_features}')\n",
        "print(f'Number of classes: {dataset.num_classes}')\n",
        "\n",
        "data = dataset[0]  # Get the first graph object.\n",
        "\n",
        "print()\n",
        "print(data)\n",
        "print('=============================================================')\n",
        "\n",
        "# Gather some statistics about the first graph.\n",
        "print(f'Number of nodes: {data.num_nodes}')\n",
        "print(f'Number of edges: {data.num_edges}')\n",
        "print(f'Average node degree: {data.num_edges / data.num_nodes:.2f}')\n",
        "print(f'Has isolated nodes: {data.has_isolated_nodes()}')\n",
        "print(f'Has self-loops: {data.has_self_loops()}')\n",
        "print(f'Is undirected: {data.is_undirected()}')"
      ],
      "execution_count": 12,
      "outputs": [
        {
          "output_type": "stream",
          "name": "stdout",
          "text": [
            "\n",
            "Dataset: IMDB-BINARY(1000):\n",
            "====================\n",
            "Number of graphs: 1000\n",
            "Number of features: 0\n",
            "Number of classes: 2\n",
            "\n",
            "Data(edge_index=[2, 146], y=[1], num_nodes=20)\n",
            "=============================================================\n",
            "Number of nodes: 20\n",
            "Number of edges: 146\n",
            "Average node degree: 7.30\n",
            "Has isolated nodes: False\n",
            "Has self-loops: False\n",
            "Is undirected: True\n"
          ]
        }
      ]
    },
    {
      "cell_type": "markdown",
      "source": [
        "### Splitting Train and Test Data"
      ],
      "metadata": {
        "id": "vLvTNmDozrjZ"
      }
    },
    {
      "cell_type": "code",
      "metadata": {
        "id": "j11WiUr-PRH_",
        "colab": {
          "base_uri": "https://localhost:8080/"
        },
        "outputId": "e26ca735-e83e-45d4-966b-1c45effa7528"
      },
      "source": [
        "torch.manual_seed(12345)\n",
        "dataset = dataset.shuffle()\n",
        "\n",
        "train_dataset = dataset[:850]\n",
        "test_dataset = dataset[850:]\n",
        "\n",
        "print(f'Number of training graphs: {len(train_dataset)}')\n",
        "print(f'Number of test graphs: {len(test_dataset)}')"
      ],
      "execution_count": 13,
      "outputs": [
        {
          "output_type": "stream",
          "name": "stdout",
          "text": [
            "Number of training graphs: 850\n",
            "Number of test graphs: 150\n"
          ]
        }
      ]
    },
    {
      "cell_type": "markdown",
      "source": [
        "### Data Loader"
      ],
      "metadata": {
        "id": "ZuLdsIbozpAG"
      }
    },
    {
      "cell_type": "code",
      "metadata": {
        "id": "0gZ-l0npPIca",
        "colab": {
          "base_uri": "https://localhost:8080/"
        },
        "outputId": "3de589a8-4190-4bf2-ed1d-bc826def4993"
      },
      "source": [
        "from torch_geometric.loader import DataLoader\n",
        "\n",
        "train_loader = DataLoader(train_dataset, batch_size=64, shuffle=True)\n",
        "test_loader = DataLoader(test_dataset, batch_size=64, shuffle=False)\n",
        "\n",
        "for step, data in enumerate(train_loader):\n",
        "    print(f'Step {step + 1}:')\n",
        "    print('=======')\n",
        "    print(f'Number of graphs in the current batch: {data.num_graphs}')\n",
        "    print(data)\n",
        "    print()"
      ],
      "execution_count": 6,
      "outputs": [
        {
          "output_type": "stream",
          "name": "stdout",
          "text": [
            "Step 1:\n",
            "=======\n",
            "Number of graphs in the current batch: 64\n",
            "DataBatch(edge_index=[2, 13694], y=[64], num_nodes=1328, batch=[1328], ptr=[65])\n",
            "\n",
            "Step 2:\n",
            "=======\n",
            "Number of graphs in the current batch: 64\n",
            "DataBatch(edge_index=[2, 12360], y=[64], num_nodes=1294, batch=[1294], ptr=[65])\n",
            "\n",
            "Step 3:\n",
            "=======\n",
            "Number of graphs in the current batch: 64\n",
            "DataBatch(edge_index=[2, 10680], y=[64], num_nodes=1166, batch=[1166], ptr=[65])\n",
            "\n",
            "Step 4:\n",
            "=======\n",
            "Number of graphs in the current batch: 64\n",
            "DataBatch(edge_index=[2, 15298], y=[64], num_nodes=1340, batch=[1340], ptr=[65])\n",
            "\n",
            "Step 5:\n",
            "=======\n",
            "Number of graphs in the current batch: 64\n",
            "DataBatch(edge_index=[2, 9880], y=[64], num_nodes=1217, batch=[1217], ptr=[65])\n",
            "\n",
            "Step 6:\n",
            "=======\n",
            "Number of graphs in the current batch: 64\n",
            "DataBatch(edge_index=[2, 12160], y=[64], num_nodes=1352, batch=[1352], ptr=[65])\n",
            "\n",
            "Step 7:\n",
            "=======\n",
            "Number of graphs in the current batch: 64\n",
            "DataBatch(edge_index=[2, 13044], y=[64], num_nodes=1210, batch=[1210], ptr=[65])\n",
            "\n",
            "Step 8:\n",
            "=======\n",
            "Number of graphs in the current batch: 64\n",
            "DataBatch(edge_index=[2, 12624], y=[64], num_nodes=1248, batch=[1248], ptr=[65])\n",
            "\n",
            "Step 9:\n",
            "=======\n",
            "Number of graphs in the current batch: 64\n",
            "DataBatch(edge_index=[2, 13084], y=[64], num_nodes=1253, batch=[1253], ptr=[65])\n",
            "\n",
            "Step 10:\n",
            "=======\n",
            "Number of graphs in the current batch: 64\n",
            "DataBatch(edge_index=[2, 12628], y=[64], num_nodes=1259, batch=[1259], ptr=[65])\n",
            "\n",
            "Step 11:\n",
            "=======\n",
            "Number of graphs in the current batch: 64\n",
            "DataBatch(edge_index=[2, 11474], y=[64], num_nodes=1353, batch=[1353], ptr=[65])\n",
            "\n",
            "Step 12:\n",
            "=======\n",
            "Number of graphs in the current batch: 64\n",
            "DataBatch(edge_index=[2, 11322], y=[64], num_nodes=1251, batch=[1251], ptr=[65])\n",
            "\n",
            "Step 13:\n",
            "=======\n",
            "Number of graphs in the current batch: 64\n",
            "DataBatch(edge_index=[2, 11538], y=[64], num_nodes=1230, batch=[1230], ptr=[65])\n",
            "\n",
            "Step 14:\n",
            "=======\n",
            "Number of graphs in the current batch: 18\n",
            "DataBatch(edge_index=[2, 3226], y=[18], num_nodes=344, batch=[344], ptr=[19])\n",
            "\n"
          ]
        }
      ]
    },
    {
      "cell_type": "markdown",
      "source": [
        "## Task: build and train a GNN or GCN to classify the test data.  "
      ],
      "metadata": {
        "id": "VaELV8m1zeXk"
      }
    },
    {
      "cell_type": "code",
      "source": [
        ""
      ],
      "metadata": {
        "id": "QnjYwUO-zmgg"
      },
      "execution_count": null,
      "outputs": []
    }
  ]
}