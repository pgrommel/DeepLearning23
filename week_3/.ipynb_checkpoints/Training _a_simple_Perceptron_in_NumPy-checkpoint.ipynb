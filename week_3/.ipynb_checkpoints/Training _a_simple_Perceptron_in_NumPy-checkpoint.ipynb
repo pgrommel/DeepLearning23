{
 "cells": [
  {
   "cell_type": "markdown",
   "metadata": {
    "id": "t7_gb7RyLS5A"
   },
   "source": [
    "# Training a simple Perceptron in NumPy"
   ]
  },
  {
   "cell_type": "code",
   "execution_count": null,
   "metadata": {
    "id": "93XdvcV3LS5H"
   },
   "outputs": [],
   "source": [
    "import numpy as np\n",
    "import matplotlib.pyplot as plt\n",
    "from sklearn.datasets import make_blobs #for data generatio"
   ]
  },
  {
   "cell_type": "code",
   "execution_count": null,
   "metadata": {
    "colab": {
     "base_uri": "https://localhost:8080/"
    },
    "id": "7t721nNeLS5J",
    "outputId": "b72b3523-9928-4b63-f624-87c1eb5f7077"
   },
   "outputs": [],
   "source": [
    "#install animation lib\n",
    "!pip install celluloid"
   ]
  },
  {
   "cell_type": "code",
   "execution_count": null,
   "metadata": {
    "id": "7KEqwO3xLS5M"
   },
   "outputs": [],
   "source": [
    "X, y = make_blobs(n_samples=100, centers=2, n_features=2,center_box=(2,10),random_state=42)\n",
    "\n",
    "#normalize y to [-1,1]\n",
    "y=(y*2-1)"
   ]
  },
  {
   "cell_type": "code",
   "execution_count": null,
   "metadata": {
    "colab": {
     "base_uri": "https://localhost:8080/",
     "height": 287
    },
    "id": "B9LYHek-LS5M",
    "outputId": "7e672a72-7476-44ca-de9e-1da7e6deeed3"
   },
   "outputs": [],
   "source": [
    "plt.scatter(X[:,0],X[:,1],c=y)\n",
    "plt.colorbar()"
   ]
  },
  {
   "cell_type": "markdown",
   "metadata": {
    "id": "If692MsALS5O"
   },
   "source": [
    "## Before: Parameterize the classifier hyper-plane\n",
    "* find $w$ and $b$ "
   ]
  },
  {
   "cell_type": "code",
   "execution_count": null,
   "metadata": {
    "id": "6uZXKcFgLS5O"
   },
   "outputs": [],
   "source": [
    "#helper function to find parameters\n",
    "def abline(slope, intercept):\n",
    "    \"\"\"Plot a line from slope and intercept\"\"\"\n",
    "    axes = plt.gca()\n",
    "    x_vals = np.array(axes.get_xlim())\n",
    "    y_vals = intercept + slope * x_vals\n",
    "    plt.plot(x_vals, y_vals, '--')\n"
   ]
  },
  {
   "cell_type": "code",
   "execution_count": null,
   "metadata": {
    "id": "on7oX0JtLS5Q"
   },
   "outputs": [],
   "source": [
    "#set parameter\n",
    "b=1\n",
    "w=np.array([0.5,-0.5]) #norm=1 would be ~0.70... but 0.5 works fine"
   ]
  },
  {
   "cell_type": "code",
   "execution_count": null,
   "metadata": {
    "colab": {
     "base_uri": "https://localhost:8080/",
     "height": 287
    },
    "id": "QbjMtoDoLS5S",
    "outputId": "7163f65e-0346-4a3f-ff93-6a272f0fc151",
    "scrolled": true
   },
   "outputs": [],
   "source": [
    "plt.scatter(X[:,0],X[:,1],c=y)\n",
    "plt.colorbar()\n",
    "abline(1,2)\n",
    "plt.quiver(6,8,w[0],w[1])# plot normal vector"
   ]
  },
  {
   "cell_type": "markdown",
   "metadata": {
    "id": "8fn16-l6LS5T"
   },
   "source": [
    "## Gridsearch for $w$"
   ]
  },
  {
   "cell_type": "code",
   "execution_count": null,
   "metadata": {
    "id": "HlEMpCsLLS5U"
   },
   "outputs": [],
   "source": [
    "n=10\n",
    "s=0.1\n",
    "w=np.array([0.0,0.0])\n",
    "err=np.zeros((2*int(n/s),2*int(n/s)))\n",
    "for w0 in np.arange(-n,n,s):\n",
    "    for w1 in np.arange(-n,n,s):\n",
    "        w[0]=(float(w0)/float(n*s))\n",
    "        w[1]=(float(w1)/float(n*s))\n",
    "        #print(int(n/s+w0/s),int(n/s+w1/s))\n",
    "        err[int(n/s+w0/s),int(n/s+w1/s)]=(y==np.sign(w.dot(X.T))).sum()"
   ]
  },
  {
   "cell_type": "code",
   "execution_count": null,
   "metadata": {
    "colab": {
     "base_uri": "https://localhost:8080/",
     "height": 301
    },
    "id": "w4K9EtslLS5V",
    "outputId": "ec8a8dd8-7fa2-40f5-cf19-94a0482985ea",
    "scrolled": true
   },
   "outputs": [],
   "source": [
    "plt.imshow(err)\n",
    "plt.colorbar()\n",
    "plt.xlabel(\"w1\")\n",
    "plt.ylabel(\"w0\")"
   ]
  },
  {
   "cell_type": "code",
   "execution_count": null,
   "metadata": {
    "colab": {
     "base_uri": "https://localhost:8080/"
    },
    "id": "pcAmdayHLS5W",
    "outputId": "186dbfab-b405-48d5-dd4f-dcbfd18cf57d"
   },
   "outputs": [],
   "source": [
    "#get max valua\n",
    "pos=np.unravel_index(err.argmax(), err.shape)\n",
    "w=np.array([-n+pos[0]*s,-n+pos[1]*s])\n",
    "w"
   ]
  },
  {
   "cell_type": "code",
   "execution_count": null,
   "metadata": {
    "colab": {
     "base_uri": "https://localhost:8080/"
    },
    "id": "BLGv4Dx6LS5X",
    "outputId": "1fc5573b-94ff-488b-c273-8793d43fe72b"
   },
   "outputs": [],
   "source": [
    "#test\n",
    "(y==np.sign(w.dot(X.T))).sum()"
   ]
  },
  {
   "cell_type": "markdown",
   "metadata": {
    "id": "4jKxh3FzLS5Y"
   },
   "source": [
    "## Now: learn only $w$ by gradient based optimization \n",
    "$b$ ist just a linear scaling that can be implicitely included in a non -normalized $w$"
   ]
  },
  {
   "cell_type": "code",
   "execution_count": null,
   "metadata": {
    "id": "-HhoV_yeLS5Y"
   },
   "outputs": [],
   "source": [
    "# init random w\n",
    "w=np.random.random(2)"
   ]
  },
  {
   "cell_type": "code",
   "execution_count": null,
   "metadata": {
    "colab": {
     "base_uri": "https://localhost:8080/",
     "height": 287
    },
    "id": "2Qs5ILh7LS5Z",
    "outputId": "57bf8b50-4052-4b8c-9a9a-e9890c36c0c4",
    "scrolled": false
   },
   "outputs": [],
   "source": [
    "#visualize init classification results\n",
    "\n",
    "res=np.sign(w.dot(X.T)) #activation\n",
    "plt.scatter(X[:,0],X[:,1],c=res)\n",
    "plt.colorbar()\n",
    "\n"
   ]
  },
  {
   "cell_type": "code",
   "execution_count": null,
   "metadata": {
    "id": "yhpy47xILS5a"
   },
   "outputs": [],
   "source": [
    "#gradient descent for singe perceptron\n",
    "def train_gd(X, Y):\n",
    "    w = np.random.random(2)\n",
    "    eta = 0.01\n",
    "    epochs = 10\n",
    "\n",
    "    for epoch in range(epochs):\n",
    "        for i, x in enumerate(X):\n",
    "            if (np.dot(X[i], w)*Y[i]) <= 0:\n",
    "                w = w + eta*X[i]*Y[i]\n",
    "    return w\n"
   ]
  },
  {
   "cell_type": "code",
   "execution_count": null,
   "metadata": {
    "id": "vBHoG-lgLS5a"
   },
   "outputs": [],
   "source": [
    "w=train_gd(X,y)"
   ]
  },
  {
   "cell_type": "code",
   "execution_count": null,
   "metadata": {
    "colab": {
     "base_uri": "https://localhost:8080/",
     "height": 287
    },
    "id": "lyrPiY_aLS5b",
    "outputId": "296aa925-fa74-49af-d87b-a67c259afd56"
   },
   "outputs": [],
   "source": [
    "#visualize init calssification results\n",
    "\n",
    "res=np.sign(w.dot(X.T)) #activation\n",
    "\n",
    "plt.scatter(X[:,0],X[:,1],c=res)\n",
    "plt.colorbar()\n"
   ]
  },
  {
   "cell_type": "code",
   "execution_count": null,
   "metadata": {
    "id": "a7EDk8b1LS5b"
   },
   "outputs": [],
   "source": [
    "#train with loss plot\n",
    "from celluloid import Camera\n",
    "\n",
    "def train_gd_plot(X, Y):\n",
    "\n",
    "    w = np.random.random(2)\n",
    "    eta = 0.001\n",
    "    n = 3\n",
    "    errors = []\n",
    "    \n",
    "    camera = Camera(plt.figure())\n",
    "    \n",
    "    for t in range(n):\n",
    "        for i, x in enumerate(X):\n",
    "            if (np.dot(X[i], w)*Y[i]) <= 0:\n",
    "                total_error = (np.dot(X[i], w)*Y[i])\n",
    "                w = w + eta*X[i]*Y[i]\n",
    "            errors.append(total_error*-1)\n",
    "            val=np.sign(w.dot(X.T))\n",
    "            plt.scatter(X[:,0],X[:,1],c=val)\n",
    "            plt.annotate(\"iter:\"+str(i*n+i)+\"\\n w=(\"+str(w[0])+\",\"+str(w[1])+\")\\n error:\"+str(total_error), xy=(0.10, 0.90), xycoords='axes fraction')\n",
    "            \n",
    "            #plt.xlabel(\"iter:\"+str(i*n+i)+\"\\n w=(\"+str(w[0])+\",\"+str(w[1])+\")\\n error:\"+str(total_error))\n",
    "            camera.snap()\n",
    "        \n",
    "    anim = camera.animate(blit=True)\n",
    "    anim.save('train.mp4')\n",
    "    \n",
    "    \n",
    "    return w, errors\n"
   ]
  },
  {
   "cell_type": "code",
   "execution_count": null,
   "metadata": {
    "colab": {
     "base_uri": "https://localhost:8080/",
     "height": 275
    },
    "id": "pTlXb4-xLS5c",
    "outputId": "906c0164-c258-4bf6-95f7-1cf975cfb47a",
    "scrolled": true
   },
   "outputs": [],
   "source": [
    "w,errors=train_gd_plot(X, y)"
   ]
  },
  {
   "cell_type": "code",
   "execution_count": null,
   "metadata": {
    "colab": {
     "base_uri": "https://localhost:8080/"
    },
    "id": "MX_DyKJDLS5d",
    "outputId": "46e83f7b-e8cf-4cd2-824a-d3e0ee2ce1f7"
   },
   "outputs": [],
   "source": [
    "#result:\n",
    "w"
   ]
  },
  {
   "cell_type": "code",
   "execution_count": null,
   "metadata": {
    "colab": {
     "base_uri": "https://localhost:8080/",
     "height": 297
    },
    "id": "9A_0v2R3LS5e",
    "outputId": "30c86edb-5c5f-47c2-c9af-b2658574b786"
   },
   "outputs": [],
   "source": [
    "#plot loss\n",
    "plt.figure()\n",
    "plt.plot(errors)\n",
    "plt.xlabel('Iter')\n",
    "plt.ylabel('Total Loss')"
   ]
  },
  {
   "cell_type": "code",
   "execution_count": null,
   "metadata": {
    "colab": {
     "base_uri": "https://localhost:8080/",
     "height": 287
    },
    "id": "fW6zxj56L0hy",
    "outputId": "92904492-e077-4d66-a9fc-3eb12aacf825"
   },
   "outputs": [],
   "source": [
    "from IPython.display import HTML\n",
    "from base64 import b64encode\n",
    "mp4 = open('train.mp4','rb').read()\n",
    "data_url = \"data:video/mp4;base64,\" + b64encode(mp4).decode()\n",
    "HTML(\"\"\"\n",
    "<video width=400 controls>\n",
    "      <source src=\"%s\" type=\"video/mp4\">\n",
    "</video>\n",
    "\"\"\" % data_url)\n"
   ]
  },
  {
   "cell_type": "code",
   "execution_count": null,
   "metadata": {
    "id": "sb8vOXTtMFkb"
   },
   "outputs": [],
   "source": []
  }
 ],
 "metadata": {
  "celltoolbar": "Slideshow",
  "colab": {
   "name": "Training _a_simple_Perceptron_in_NumPy.ipynb",
   "provenance": []
  },
  "kernelspec": {
   "display_name": "Python 3",
   "language": "python",
   "name": "python3"
  },
  "language_info": {
   "codemirror_mode": {
    "name": "ipython",
    "version": 3
   },
   "file_extension": ".py",
   "mimetype": "text/x-python",
   "name": "python",
   "nbconvert_exporter": "python",
   "pygments_lexer": "ipython3",
   "version": "3.7.6"
  }
 },
 "nbformat": 4,
 "nbformat_minor": 1
}
