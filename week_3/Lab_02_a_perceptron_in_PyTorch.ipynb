{
  "cells": [
    {
      "cell_type": "markdown",
      "metadata": {
        "id": "ySpyYOfrOLO7"
      },
      "source": [
        "#### Install PyTorch\n",
        "PyTorch (from Facebook) is NOT pre-installed on Googles CoLab "
      ]
    },
    {
      "cell_type": "code",
      "execution_count": 1,
      "metadata": {
        "id": "PTBwCwiqOLPC",
        "outputId": "b335a369-ddd3-4492-d310-720aebb76e28",
        "colab": {
          "base_uri": "https://localhost:8080/"
        }
      },
      "outputs": [
        {
          "output_type": "stream",
          "name": "stdout",
          "text": [
            "Looking in links: https://download.pytorch.org/whl/torch_stable.html\n",
            "Collecting torch==1.2.0+cu92\n",
            "  Downloading https://download.pytorch.org/whl/cu92/torch-1.2.0%2Bcu92-cp37-cp37m-manylinux1_x86_64.whl (663.1 MB)\n",
            "\u001b[K     |████████████████████████████████| 663.1 MB 1.7 kB/s \n",
            "\u001b[?25hCollecting torchvision==0.4.0+cu92\n",
            "  Downloading https://download.pytorch.org/whl/cu92/torchvision-0.4.0%2Bcu92-cp37-cp37m-manylinux1_x86_64.whl (8.8 MB)\n",
            "\u001b[K     |████████████████████████████████| 8.8 MB 63.5 MB/s \n",
            "\u001b[?25hRequirement already satisfied: numpy in /usr/local/lib/python3.7/dist-packages (from torch==1.2.0+cu92) (1.21.5)\n",
            "Requirement already satisfied: six in /usr/local/lib/python3.7/dist-packages (from torchvision==0.4.0+cu92) (1.15.0)\n",
            "Requirement already satisfied: pillow>=4.1.1 in /usr/local/lib/python3.7/dist-packages (from torchvision==0.4.0+cu92) (7.1.2)\n",
            "Installing collected packages: torch, torchvision\n",
            "  Attempting uninstall: torch\n",
            "    Found existing installation: torch 1.10.0+cu111\n",
            "    Uninstalling torch-1.10.0+cu111:\n",
            "      Successfully uninstalled torch-1.10.0+cu111\n",
            "  Attempting uninstall: torchvision\n",
            "    Found existing installation: torchvision 0.11.1+cu111\n",
            "    Uninstalling torchvision-0.11.1+cu111:\n",
            "      Successfully uninstalled torchvision-0.11.1+cu111\n",
            "\u001b[31mERROR: pip's dependency resolver does not currently take into account all the packages that are installed. This behaviour is the source of the following dependency conflicts.\n",
            "torchtext 0.11.0 requires torch==1.10.0, but you have torch 1.2.0+cu92 which is incompatible.\n",
            "torchaudio 0.10.0+cu111 requires torch==1.10.0, but you have torch 1.2.0+cu92 which is incompatible.\u001b[0m\n",
            "Successfully installed torch-1.2.0+cu92 torchvision-0.4.0+cu92\n"
          ]
        }
      ],
      "source": [
        "!pip3 install torch==1.2.0+cu92 torchvision==0.4.0+cu92 -f https://download.pytorch.org/whl/torch_stable.html"
      ]
    },
    {
      "cell_type": "markdown",
      "metadata": {
        "id": "mGSzk158OLPE"
      },
      "source": [
        "# A Perceptron in PyTorch\n",
        "implementing our Numpy model with PyTorch"
      ]
    },
    {
      "cell_type": "code",
      "execution_count": 11,
      "metadata": {
        "id": "WatAvKJiOLPG"
      },
      "outputs": [],
      "source": [
        "import numpy as np\n",
        "import matplotlib.pyplot as plt\n",
        "from sklearn.datasets import make_blobs #for data generation\n",
        "from sklearn.model_selection import train_test_split #for test set generation"
      ]
    },
    {
      "cell_type": "code",
      "execution_count": 3,
      "metadata": {
        "id": "NSrCnGPcOLPH"
      },
      "outputs": [],
      "source": [
        "X, y = make_blobs(n_samples=100, centers=2, n_features=2,center_box=(2,10),random_state=42)\n",
        "#y=y*2-1 #rescale to [-1,1]"
      ]
    },
    {
      "cell_type": "code",
      "execution_count": 88,
      "metadata": {
        "id": "uxw_t5YeOLPI",
        "outputId": "b9f1d318-35c9-417c-9446-3626b5114606",
        "colab": {
          "base_uri": "https://localhost:8080/",
          "height": 287
        }
      },
      "outputs": [
        {
          "output_type": "execute_result",
          "data": {
            "text/plain": [
              "<matplotlib.colorbar.Colorbar at 0x7ff2c11338d0>"
            ]
          },
          "metadata": {},
          "execution_count": 88
        },
        {
          "output_type": "display_data",
          "data": {
            "text/plain": [
              "<Figure size 432x288 with 2 Axes>"
            ],
            "image/png": "[encoded data removed]"
          },
          "metadata": {
            "needs_background": "light"
          }
        }
      ],
      "source": [
        "plt.scatter(X[:,0],X[:,1],c=y)\n",
        "plt.colorbar()"
      ]
    },
    {
      "cell_type": "markdown",
      "metadata": {
        "id": "Wjhq9yb1OLPJ"
      },
      "source": [
        "## Perceptron in PyTorch\n",
        "* [PyTorch NN Module docu](https://pytorch.org/docs/stable/nn.html)"
      ]
    },
    {
      "cell_type": "markdown",
      "metadata": {
        "id": "chTPD5_3OLPK"
      },
      "source": [
        "### define model"
      ]
    },
    {
      "cell_type": "code",
      "execution_count": 51,
      "metadata": {
        "id": "2y4cGUHEOLPL"
      },
      "outputs": [],
      "source": [
        "import torch \n",
        "class Perceptron(torch.nn.Module): #all nets inherit from nn.Module\n",
        "    def __init__(self): #define layer types\n",
        "        super(Perceptron, self).__init__()\n",
        "        self.fc = torch.nn.Linear(2,1,bias=False) # Perceptron is single neuron \"fully connected\" (fc) -> linear unit with 2 inputs and 1 output \n",
        "        self.non_linear = torch.nn.Sigmoid() #non-linear activation \n",
        "    def forward(self, x): #build network\n",
        "        output = self.fc(x) #w*X\n",
        "        output = self.non_linear(output) # activation \n",
        "        return output"
      ]
    },
    {
      "cell_type": "markdown",
      "metadata": {
        "id": "UJNli7kwOLPN"
      },
      "source": [
        "### prepare training and test data"
      ]
    },
    {
      "cell_type": "code",
      "execution_count": 52,
      "metadata": {
        "id": "lblPnCgxOLPP"
      },
      "outputs": [],
      "source": [
        "#make blob data\n",
        "x, y = make_blobs(n_samples=100, centers=2, n_features=2,center_box=(2,10),random_state=42)\n",
        "\n",
        "#split in train and test \n",
        "x_train, x_test, y_train, y_test = train_test_split(x, y, test_size=0.33, random_state=42)\n",
        "\n",
        "#np->torch\n",
        "x_train = torch.FloatTensor(x_train)\n",
        "x_test = torch.FloatTensor(x_test)\n",
        "y_train = torch.FloatTensor(y_train)\n",
        "y_test = torch.FloatTensor(y_test)\n",
        "\n"
      ]
    },
    {
      "cell_type": "code",
      "source": [
        "#have look\n",
        "y_train"
      ],
      "metadata": {
        "id": "7CoeAvQEQDYF",
        "outputId": "d54db1a9-e36a-4279-a067-a516c2c384f6",
        "colab": {
          "base_uri": "https://localhost:8080/"
        }
      },
      "execution_count": 53,
      "outputs": [
        {
          "output_type": "execute_result",
          "data": {
            "text/plain": [
              "tensor([1., 0., 0., 1., 1., 1., 1., 1., 0., 1., 0., 0., 0., 0., 0., 0., 0., 1.,\n",
              "        1., 1., 0., 0., 1., 1., 1., 1., 0., 0., 0., 0., 1., 1., 0., 0., 1., 1.,\n",
              "        1., 0., 1., 1., 0., 0., 1., 1., 0., 0., 0., 1., 1., 0., 1., 1., 0., 1.,\n",
              "        0., 1., 0., 0., 1., 0., 0., 1., 0., 1., 1., 0., 0.])"
            ]
          },
          "metadata": {},
          "execution_count": 53
        }
      ]
    },
    {
      "cell_type": "markdown",
      "metadata": {
        "id": "3SJcBxFnOLPQ"
      },
      "source": [
        "### get instance of model\n",
        "and set optimizer"
      ]
    },
    {
      "cell_type": "code",
      "execution_count": 54,
      "metadata": {
        "id": "gBYRw8CEOLPR"
      },
      "outputs": [],
      "source": [
        "#get instance of perceptron model\n",
        "model = Perceptron()\n",
        "\n",
        "#define loss function\n",
        "criterion = torch.nn.BCELoss()\n",
        "\n",
        "#define optimizer -> SGD with learning rate lr\n",
        "optimizer = torch.optim.SGD(model.parameters(), lr = 0.01)"
      ]
    },
    {
      "cell_type": "code",
      "source": [
        "#run test data theogh untrained model\n",
        "model.eval() #set to eval mode\n",
        "model(x_test)"
      ],
      "metadata": {
        "id": "OqhuuS00S_Qf",
        "outputId": "5168006c-3014-4678-fea0-d618f5efc1b0",
        "colab": {
          "base_uri": "https://localhost:8080/"
        }
      },
      "execution_count": 55,
      "outputs": [
        {
          "output_type": "execute_result",
          "data": {
            "text/plain": [
              "tensor([[0.0486],\n",
              "        [0.2129],\n",
              "        [0.0162],\n",
              "        [0.0619],\n",
              "        [0.3069],\n",
              "        [0.0863],\n",
              "        [0.3955],\n",
              "        [0.3377],\n",
              "        [0.0644],\n",
              "        [0.0300],\n",
              "        [0.3719],\n",
              "        [0.0330],\n",
              "        [0.2368],\n",
              "        [0.0535],\n",
              "        [0.5028],\n",
              "        [0.1507],\n",
              "        [0.3017],\n",
              "        [0.0186],\n",
              "        [0.0209],\n",
              "        [0.0293],\n",
              "        [0.3774],\n",
              "        [0.3685],\n",
              "        [0.2099],\n",
              "        [0.1391],\n",
              "        [0.2262],\n",
              "        [0.2320],\n",
              "        [0.0358],\n",
              "        [0.0348],\n",
              "        [0.0287],\n",
              "        [0.3076],\n",
              "        [0.3056],\n",
              "        [0.0301],\n",
              "        [0.0353]], grad_fn=<SigmoidBackward>)"
            ]
          },
          "metadata": {},
          "execution_count": 55
        }
      ]
    },
    {
      "cell_type": "markdown",
      "metadata": {
        "id": "xZYHV-FDOLPR"
      },
      "source": [
        "### train"
      ]
    },
    {
      "cell_type": "code",
      "execution_count": 61,
      "metadata": {
        "id": "18hUejMbOLPS",
        "outputId": "7db450e2-dfb7-4b13-dc5b-b200abf4f607",
        "colab": {
          "base_uri": "https://localhost:8080/"
        }
      },
      "outputs": [
        {
          "output_type": "stream",
          "name": "stdout",
          "text": [
            "Epoch 0: train loss: 0.26395994424819946\n",
            "Epoch 1: train loss: 0.26281702518463135\n",
            "Epoch 2: train loss: 0.261686235666275\n",
            "Epoch 3: train loss: 0.26056724786758423\n",
            "Epoch 4: train loss: 0.2594600319862366\n",
            "Epoch 5: train loss: 0.258364200592041\n",
            "Epoch 6: train loss: 0.25727978348731995\n",
            "Epoch 7: train loss: 0.2562062740325928\n",
            "Epoch 8: train loss: 0.2551439702510834\n",
            "Epoch 9: train loss: 0.2540923058986664\n",
            "Epoch 10: train loss: 0.2530513107776642\n",
            "Epoch 11: train loss: 0.25202080607414246\n",
            "Epoch 12: train loss: 0.25100061297416687\n",
            "Epoch 13: train loss: 0.24999046325683594\n",
            "Epoch 14: train loss: 0.24899029731750488\n",
            "Epoch 15: train loss: 0.24800018966197968\n",
            "Epoch 16: train loss: 0.24701958894729614\n",
            "Epoch 17: train loss: 0.24604851007461548\n",
            "Epoch 18: train loss: 0.24508698284626007\n",
            "Epoch 19: train loss: 0.24413461983203888\n",
            "Epoch 20: train loss: 0.2431914508342743\n",
            "Epoch 21: train loss: 0.242257222533226\n",
            "Epoch 22: train loss: 0.24133194983005524\n",
            "Epoch 23: train loss: 0.24041542410850525\n",
            "Epoch 24: train loss: 0.2395075261592865\n",
            "Epoch 25: train loss: 0.23860809206962585\n",
            "Epoch 26: train loss: 0.23771707713603973\n",
            "Epoch 27: train loss: 0.23683422803878784\n",
            "Epoch 28: train loss: 0.23595957458019257\n",
            "Epoch 29: train loss: 0.23509295284748077\n",
            "Epoch 30: train loss: 0.2342342585325241\n",
            "Epoch 31: train loss: 0.23338331282138824\n",
            "Epoch 32: train loss: 0.23254011571407318\n",
            "Epoch 33: train loss: 0.2317045032978058\n",
            "Epoch 34: train loss: 0.2308763563632965\n",
            "Epoch 35: train loss: 0.23005566000938416\n",
            "Epoch 36: train loss: 0.22924219071865082\n",
            "Epoch 37: train loss: 0.2284359186887741\n",
            "Epoch 38: train loss: 0.22763675451278687\n",
            "Epoch 39: train loss: 0.22684453427791595\n",
            "Epoch 40: train loss: 0.22605924308300018\n",
            "Epoch 41: train loss: 0.2252807915210724\n",
            "Epoch 42: train loss: 0.22450904548168182\n",
            "Epoch 43: train loss: 0.22374379634857178\n",
            "Epoch 44: train loss: 0.22298522293567657\n",
            "Epoch 45: train loss: 0.22223317623138428\n",
            "Epoch 46: train loss: 0.22148729860782623\n",
            "Epoch 47: train loss: 0.22074787318706512\n",
            "Epoch 48: train loss: 0.22001469135284424\n",
            "Epoch 49: train loss: 0.21928748488426208\n"
          ]
        }
      ],
      "source": [
        "model.train() #set to train mode\n",
        "epoch = 50\n",
        "for epoch in range(epoch):\n",
        "    optimizer.zero_grad()\n",
        "    # Forward pass\n",
        "    y_pred = model(x_train)\n",
        "    # Compute Loss\n",
        "    loss = criterion(y_pred.squeeze(), y_train)\n",
        "   \n",
        "    print('Epoch {}: train loss: {}'.format(epoch, loss.item()))\n",
        "    # Backward pass\n",
        "    loss.backward()\n",
        "    #make gradient update\n",
        "    optimizer.step()\n"
      ]
    },
    {
      "cell_type": "markdown",
      "metadata": {
        "id": "vmslP6ujOLPT"
      },
      "source": [
        "### evaluate"
      ]
    },
    {
      "cell_type": "code",
      "execution_count": 84,
      "metadata": {
        "id": "rolji8hUOLPT",
        "outputId": "e71b4f2d-3d46-4006-b522-4a70c3ae9d03",
        "colab": {
          "base_uri": "https://localhost:8080/"
        }
      },
      "outputs": [
        {
          "output_type": "stream",
          "name": "stdout",
          "text": [
            "train ACC:  tensor(1.)\n"
          ]
        }
      ],
      "source": [
        "model.eval() #set model to eval mode\n",
        "\n",
        "#train \n",
        "y_pred = model(x_train) #predict\n",
        "y_pred=(y_pred>0.5).int().flatten() #argmax class lable\n",
        "train_acc = y_train.shape[0]/torch.sum(y_pred == y_train.int()) #check result: devide num of samples by num of correct ones, need to cast to int\n",
        "print(\"train ACC: \",train_acc.float())"
      ]
    },
    {
      "cell_type": "code",
      "source": [
        "#test \n",
        "y_pred = model(x_test) #predict\n",
        "y_pred=(y_pred>0.5).int().flatten() #argmax class lable\n",
        "test_acc = y_test.shape[0]/torch.sum(y_pred == y_test.int()) #check result: devide num of samples by num of correct ones, need to cast to int\n",
        "print(\"test ACC: \",test_acc.float())"
      ],
      "metadata": {
        "id": "d0tDvOccUqj-",
        "outputId": "75a4fab0-06d3-4d4a-9909-020dbd5fce0f",
        "colab": {
          "base_uri": "https://localhost:8080/"
        }
      },
      "execution_count": 86,
      "outputs": [
        {
          "output_type": "stream",
          "name": "stdout",
          "text": [
            "test ACC:  tensor(1.)\n"
          ]
        }
      ]
    },
    {
      "cell_type": "code",
      "source": [
        "plt.scatter(x_test[:,0],x_test[:,1],c=y_pred)\n",
        "plt.colorbar()"
      ],
      "metadata": {
        "id": "D5COihQBYArF",
        "outputId": "e9063b04-ff51-476d-ba5a-13a845f997a1",
        "colab": {
          "base_uri": "https://localhost:8080/",
          "height": 287
        }
      },
      "execution_count": 89,
      "outputs": [
        {
          "output_type": "execute_result",
          "data": {
            "text/plain": [
              "<matplotlib.colorbar.Colorbar at 0x7ff2c0f766d0>"
            ]
          },
          "metadata": {},
          "execution_count": 89
        },
        {
          "output_type": "display_data",
          "data": {
            "text/plain": [
              "<Figure size 432x288 with 2 Axes>"
            ],
            "image/png": "[encoded data removed]"
          },
          "metadata": {
            "needs_background": "light"
          }
        }
      ]
    },
    {
      "cell_type": "code",
      "source": [
        ""
      ],
      "metadata": {
        "id": "B3Iyz0rmYPYH"
      },
      "execution_count": null,
      "outputs": []
    }
  ],
  "metadata": {
    "kernelspec": {
      "display_name": "Python 3",
      "language": "python",
      "name": "python3"
    },
    "language_info": {
      "codemirror_mode": {
        "name": "ipython",
        "version": 3
      },
      "file_extension": ".py",
      "mimetype": "text/x-python",
      "name": "python",
      "nbconvert_exporter": "python",
      "pygments_lexer": "ipython3",
      "version": "3.7.6"
    },
    "colab": {
      "name": "Lab_02_a_perceptron_in_PyTorch.ipynb",
      "provenance": []
    }
  },
  "nbformat": 4,
  "nbformat_minor": 0
}